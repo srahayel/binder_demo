{
 "cells": [
  {
   "cell_type": "markdown",
   "metadata": {},
   "source": [
    "# An introduction to the Jupyter Notebook\n",
    "\n",
    "\n",
    "<img src=\"https://raw.githubusercontent.com/adebar/awesome-jupyter/master/logo.png\" width=500 height=200>\n",
    "\n",
    "\n",
    "Let's take a quick tour to see some cool features of the Jupyter Notebook !"
   ]
  },
  {
   "cell_type": "markdown",
   "metadata": {},
   "source": [
    "## First, markdown cells.\n",
    "\n",
    "\n",
    "You might recognize Markdown formatting !\n",
    "\n",
    "You'll use [Markdown](https://daringfireball.net/projects/markdown) to chat in issues and pull requests on GitHub.\n",
    "You can think of Markdown as a few little symbols around your text that will allow GitHub\n",
    "to render the text with a little bit of formatting.\n",
    "For example you could write words as bold (`**bold**`), or in italics (`*italics*`),\n",
    "or as a [link](https://www.youtube.com/watch?v=dQw4w9WgXcQ) (`[link](https://https://youtu.be/dQw4w9WgXcQ)`) to another webpage.\n",
    "\n",
    "## Next, code cells !"
   ]
  },
  {
   "cell_type": "code",
   "execution_count": null,
   "metadata": {},
   "outputs": [],
   "source": [
    "import seaborn as sns\n",
    "sns.dogplot()"
   ]
  },
  {
   "cell_type": "code",
   "execution_count": null,
   "metadata": {},
   "outputs": [],
   "source": [
    "sns.dogplot?"
   ]
  },
  {
   "cell_type": "code",
   "execution_count": null,
   "metadata": {},
   "outputs": [],
   "source": [
    "%matplotlib inline\n",
    "\n",
    "sns.dogplot()"
   ]
  },
  {
   "cell_type": "code",
   "execution_count": null,
   "metadata": {},
   "outputs": [],
   "source": [
    "# We can profile code using magic, too !\n",
    "# https://jakevdp.github.io/PythonDataScienceHandbook/01.07-timing-and-profiling.html\n",
    "\n",
    "%timeit [i for i in range(100)]"
   ]
  },
  {
   "cell_type": "code",
   "execution_count": null,
   "metadata": {},
   "outputs": [],
   "source": [
    "%history"
   ]
  },
  {
   "cell_type": "markdown",
   "metadata": {},
   "source": [
    "This is pretty cool ! But what if we want a python console, or a bash terminal, or a text editor ?\n",
    "First, we need to install Jupyter Lab:\n",
    "\n",
    "```\n",
    "conda install -c conda-forge jupyterlab\n",
    "```"
   ]
  },
  {
   "cell_type": "markdown",
   "metadata": {},
   "source": [
    "Let's open it! We can close this Jupyter Notebook and let's go back to the terminal.\n",
    "\n",
    "But first, let's save it as  PDF, so we can use it as a cheat sheet !\n",
    "\n",
    "Once you've done that, we'll re-open the notebook in Jupyter Lab. See you soon !\n",
    "\n",
    "<img src=\"https://upload.wikimedia.org/wikipedia/commons/thumb/7/70/Emoji_u1f44b.svg/1024px-Emoji_u1f44b.svg.png\" height=100 width=100>"
   ]
  },
  {
   "cell_type": "code",
   "execution_count": null,
   "metadata": {},
   "outputs": [],
   "source": []
  }
 ],
 "metadata": {
  "kernelspec": {
   "display_name": "Python 3",
   "language": "python",
   "name": "python3"
  },
  "language_info": {
   "codemirror_mode": {
    "name": "ipython",
    "version": 3
   },
   "file_extension": ".py",
   "mimetype": "text/x-python",
   "name": "python",
   "nbconvert_exporter": "python",
   "pygments_lexer": "ipython3",
   "version": "3.6.8"
  }
 },
 "nbformat": 4,
 "nbformat_minor": 2
}
